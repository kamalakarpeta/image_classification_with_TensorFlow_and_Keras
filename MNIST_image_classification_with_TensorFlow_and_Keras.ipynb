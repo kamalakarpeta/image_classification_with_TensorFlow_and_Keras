{
 "cells": [
  {
   "cell_type": "markdown",
   "id": "297f4bea",
   "metadata": {},
   "source": [
    "Here is a simple example using the MNIST dataset, which is a set of 70,000 small images of digits handwritten by high school students and employees of the US Census Bureau. Each image is labeled with the digit it represents.\n",
    "\n",
    "This script is divided into five sections: importing the necessary libraries, loading the data, preprocessing the data, building and training the model, and evaluating the model."
   ]
  },
  {
   "cell_type": "markdown",
   "id": "1d60f710",
   "metadata": {},
   "source": [
    "1. Import necessary libraries:"
   ]
  },
  {
   "cell_type": "code",
   "execution_count": 2,
   "id": "ffcf4d01",
   "metadata": {},
   "outputs": [],
   "source": [
    "import tensorflow as tf\n",
    "from tensorflow import keras"
   ]
  },
  {
   "cell_type": "markdown",
   "id": "1c2fcd05",
   "metadata": {},
   "source": [
    "2. Load the data:"
   ]
  },
  {
   "cell_type": "code",
   "execution_count": 3,
   "id": "a513ea14",
   "metadata": {},
   "outputs": [],
   "source": [
    "mnist = keras.datasets.mnist\n",
    "(train_images, train_labels), (test_images, test_labels) = mnist.load_data()"
   ]
  },
  {
   "cell_type": "markdown",
   "id": "f439dc33",
   "metadata": {},
   "source": [
    "3. Preprocess the data:"
   ]
  },
  {
   "cell_type": "code",
   "execution_count": 4,
   "id": "c29f856b",
   "metadata": {},
   "outputs": [],
   "source": [
    "train_images = train_images / 255.0\n",
    "test_images = test_images / 255.0"
   ]
  },
  {
   "cell_type": "markdown",
   "id": "e992f9cb",
   "metadata": {},
   "source": [
    "4. Build and train the model:"
   ]
  },
  {
   "cell_type": "code",
   "execution_count": 5,
   "id": "1e6ecd20",
   "metadata": {},
   "outputs": [
    {
     "name": "stdout",
     "output_type": "stream",
     "text": [
      "Epoch 1/5\n",
      "1875/1875 [==============================] - 3s 1ms/step - loss: 0.2575 - accuracy: 0.9271\n",
      "Epoch 2/5\n",
      "1875/1875 [==============================] - 3s 1ms/step - loss: 0.1127 - accuracy: 0.9662\n",
      "Epoch 3/5\n",
      "1875/1875 [==============================] - 3s 1ms/step - loss: 0.0785 - accuracy: 0.9764\n",
      "Epoch 4/5\n",
      "1875/1875 [==============================] - 3s 1ms/step - loss: 0.0599 - accuracy: 0.9815\n",
      "Epoch 5/5\n",
      "1875/1875 [==============================] - 3s 1ms/step - loss: 0.0457 - accuracy: 0.9859\n"
     ]
    },
    {
     "data": {
      "text/plain": [
       "<keras.src.callbacks.History at 0x24d9d6477f0>"
      ]
     },
     "execution_count": 5,
     "metadata": {},
     "output_type": "execute_result"
    }
   ],
   "source": [
    "model = keras.models.Sequential([\n",
    "    keras.layers.Flatten(input_shape=(28, 28)),\n",
    "    keras.layers.Dense(128, activation='relu'),\n",
    "    keras.layers.Dense(10)\n",
    "])\n",
    "\n",
    "model.compile(optimizer='adam',\n",
    "              loss=tf.keras.losses.SparseCategoricalCrossentropy(from_logits=True),\n",
    "              metrics=['accuracy'])\n",
    "\n",
    "model.fit(train_images, train_labels, epochs=5)"
   ]
  },
  {
   "cell_type": "markdown",
   "id": "f08a8b2e",
   "metadata": {},
   "source": [
    "5. Evaluate the model:"
   ]
  },
  {
   "cell_type": "code",
   "execution_count": 6,
   "id": "4be94ab6",
   "metadata": {},
   "outputs": [
    {
     "name": "stdout",
     "output_type": "stream",
     "text": [
      "313/313 - 0s - loss: 0.0785 - accuracy: 0.9763 - 333ms/epoch - 1ms/step\n",
      "\n",
      "Test accuracy: 0.9763000011444092\n"
     ]
    }
   ],
   "source": [
    "test_loss, test_acc = model.evaluate(test_images,  test_labels, verbose=2)\n",
    "print('\\nTest accuracy:', test_acc)"
   ]
  },
  {
   "cell_type": "markdown",
   "id": "4921ec43",
   "metadata": {},
   "source": [
    "This script will train a basic neural network on the MNIST dataset for 5 epochs, and then evaluate the accuracy of the model on the test data. The model consists of a Flatten layer, which transforms the format of the images from a two-dimensional array to a one-dimensional array, followed by two Dense layers. The first Dense layer has 128 nodes (or neurons), and the second (and last) layer returns a logits array with length of 10. Each node contains a score that indicates the current image belongs to one of the 10 classes.\n",
    "\n",
    "The model uses the 'adam' optimizer, which is an algorithm for first-order gradient-based optimization of stochastic objective functions, based on adaptive estimates of lower-order moments. The loss function is 'SparseCategoricalCrossentropy', which is appropriate for integer labels, and 'accuracy' is used as the metric.\n",
    "\n",
    "Finally, the script evaluates the model on the test dataset and prints out the accuracy of the model."
   ]
  },
  {
   "cell_type": "markdown",
   "id": "0a8ecfe6",
   "metadata": {},
   "source": [
    "Here's a script that will plot the first 5 images in the test dataset along with their corresponding labels."
   ]
  },
  {
   "cell_type": "code",
   "execution_count": 7,
   "id": "f15e22cc",
   "metadata": {},
   "outputs": [
    {
     "data": {
      "image/png": "[encoded data removed]",
      "text/plain": [
       "<Figure size 1000x200 with 5 Axes>"
      ]
     },
     "metadata": {},
     "output_type": "display_data"
    }
   ],
   "source": [
    "import matplotlib.pyplot as plt\n",
    "\n",
    "# Create a figure to contain the subplots\n",
    "plt.figure(figsize=(10,2))\n",
    "\n",
    "# Loop over the first five images in the test dataset\n",
    "for i in range(5):\n",
    "    # Create a subplot for each image\n",
    "    plt.subplot(1, 5, i+1)\n",
    "    \n",
    "    # Remove the axes\n",
    "    plt.xticks([])\n",
    "    plt.yticks([])\n",
    "    plt.grid(False)\n",
    "    \n",
    "    # Display the image\n",
    "    plt.imshow(test_images[i], cmap=plt.cm.binary)\n",
    "    \n",
    "    # Display the label\n",
    "    plt.xlabel(test_labels[i])\n",
    "    \n",
    "# Display the figure\n",
    "plt.show()"
   ]
  },
  {
   "cell_type": "markdown",
   "id": "0819ab17",
   "metadata": {},
   "source": [
    "This script uses Matplotlib to create a figure and then creates a subplot for each of the first five images in the test dataset. It removes the axes for each subplot, displays the image using a binary color map (black and white), and then displays the label beneath the image. The figure is then displayed with plt.show()."
   ]
  },
  {
   "cell_type": "code",
   "execution_count": null,
   "id": "2e9740da",
   "metadata": {},
   "outputs": [],
   "source": []
  }
 ],
 "metadata": {
  "kernelspec": {
   "display_name": "Python 3 (ipykernel)",
   "language": "python",
   "name": "python3"
  },
  "language_info": {
   "codemirror_mode": {
    "name": "ipython",
    "version": 3
   },
   "file_extension": ".py",
   "mimetype": "text/x-python",
   "name": "python",
   "nbconvert_exporter": "python",
   "pygments_lexer": "ipython3",
   "version": "3.9.13"
  }
 },
 "nbformat": 4,
 "nbformat_minor": 5
}
